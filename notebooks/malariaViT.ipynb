{
 "cells": [
  {
   "cell_type": "markdown",
   "id": "c791958c",
   "metadata": {},
   "source": [
    "Crop images"
   ]
  },
  {
   "cell_type": "code",
   "execution_count": null,
   "id": "fc273fbe",
   "metadata": {},
   "outputs": [
    {
     "name": "stdout",
     "output_type": "stream",
     "text": [
      "Nåværende arbeidsmappe: /Users/andreakristiane/MalariaClassification/notebooks\n",
      "Ukjent klasse: difficult — hopper over\n",
      "Ukjent klasse: difficult — hopper over\n",
      "Ukjent klasse: difficult — hopper over\n",
      "Ukjent klasse: difficult — hopper over\n",
      "Ukjent klasse: difficult — hopper over\n",
      "Ukjent klasse: difficult — hopper over\n",
      "Ukjent klasse: difficult — hopper over\n",
      "Ukjent klasse: difficult — hopper over\n",
      "Ukjent klasse: difficult — hopper over\n",
      "Ukjent klasse: difficult — hopper over\n",
      "Ukjent klasse: difficult — hopper over\n",
      "Ukjent klasse: difficult — hopper over\n",
      "Ukjent klasse: difficult — hopper over\n",
      "Ukjent klasse: difficult — hopper over\n",
      "Ukjent klasse: difficult — hopper over\n",
      "Ukjent klasse: difficult — hopper over\n",
      "Ukjent klasse: difficult — hopper over\n",
      "Ukjent klasse: difficult — hopper over\n",
      "Ukjent klasse: difficult — hopper over\n",
      "Ukjent klasse: difficult — hopper over\n",
      "Ukjent klasse: difficult — hopper over\n",
      "✅ Ferdig med beskjæring og lagring!\n"
     ]
    }
   ],
   "source": [
    "import os\n",
    "import json\n",
    "from PIL import Image\n",
    "\n",
    "# Paths\n",
    "images_path = \"../A-Dataset-and-Benchmark-for-Malaria-Life-Cycle-Classification-in-Thin-Blood-Smear-Images/IML_Malaria\"\n",
    "annotation_path = \"../A-Dataset-and-Benchmark-for-Malaria-Life-Cycle-Classification-in-Thin-Blood-Smear-Images/annotations.json\"\n",
    "output_dir = \"cell_dataset/\"\n",
    "\n",
    "# Lag mapper for hver klasse\n",
    "classes = [\"ring\", \"trophozoite\", \"schizont\", \"gametocyte\", \"red blood cell\"]\n",
    "for cls in classes:\n",
    "    os.makedirs(os.path.join(output_dir, cls), exist_ok=True)\n",
    "\n",
    "# Last inn annotasjonene\n",
    "with open(annotation_path) as f:\n",
    "    ground_truth = json.load(f)\n",
    "\n",
    "# Iterer over alle bilder og beskjær celler\n",
    "for entry in ground_truth:\n",
    "    image_name = entry[\"image_name\"]\n",
    "    image_path = os.path.join(images_path, image_name)\n",
    "    \n",
    "    try:\n",
    "        image = Image.open(image_path)\n",
    "    except FileNotFoundError:\n",
    "        print(f\"Bilde ikke funnet: {image_path}\")\n",
    "        continue\n",
    "\n",
    "    for i, obj in enumerate(entry[\"objects\"]):\n",
    "        label = obj[\"type\"]  \n",
    "        if label not in classes:\n",
    "            print(f\"Ukjent klasse: {label} — hopper over\")\n",
    "            continue\n",
    "\n",
    "        # Bounding box\n",
    "        x = int(obj[\"bbox\"][\"x\"])\n",
    "        y = int(obj[\"bbox\"][\"y\"])\n",
    "        w = int(obj[\"bbox\"][\"w\"])\n",
    "        h = int(obj[\"bbox\"][\"h\"])\n",
    "\n",
    "        # Beskjær og lagre\n",
    "        cropped = image.crop((x, y, x + w, y + h))\n",
    "        save_path = os.path.join(output_dir, label, f\"{image_name[:-4]}_{i}.png\")\n",
    "        cropped.save(save_path)\n",
    "\n",
    "print(\" Done with cropping and saving images.\")\n"
   ]
  }
 ],
 "metadata": {
  "kernelspec": {
   "display_name": "Python 3",
   "language": "python",
   "name": "python3"
  },
  "language_info": {
   "codemirror_mode": {
    "name": "ipython",
    "version": 3
   },
   "file_extension": ".py",
   "mimetype": "text/x-python",
   "name": "python",
   "nbconvert_exporter": "python",
   "pygments_lexer": "ipython3",
   "version": "3.11.11"
  }
 },
 "nbformat": 4,
 "nbformat_minor": 5
}
